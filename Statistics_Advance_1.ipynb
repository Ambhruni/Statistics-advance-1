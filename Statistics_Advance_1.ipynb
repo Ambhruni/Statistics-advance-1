{
  "nbformat": 4,
  "nbformat_minor": 0,
  "metadata": {
    "colab": {
      "provenance": []
    },
    "kernelspec": {
      "name": "python3",
      "display_name": "Python 3"
    },
    "language_info": {
      "name": "python"
    }
  },
  "cells": [
    {
      "cell_type": "markdown",
      "source": [
        "Question 1: What is a random variable in probability theory?\n"
      ],
      "metadata": {
        "id": "54fVt1r8yWaE"
      }
    },
    {
      "cell_type": "markdown",
      "source": [
        "->A random variable in probability theory is a variable whose value is a numerical outcome of a random phenomenon or experiment. It is essentially a rule or a function that assigns a real number to every possible outcome in the sample space of a random experiment.\n",
        "\n",
        "\n",
        "Types of Random Variables:\n",
        "\n",
        "Discrete Random Variable\n",
        "\n",
        "Takes only a finite or countably infinite set of values.\n",
        "\n",
        "Example: Number of heads when flipping 3 coins (values can be 0, 1, 2, 3).\n",
        "\n",
        "Continuous Random Variable\n",
        "\n",
        "Takes values from an interval or a continuum (uncountably infinite).\n",
        "\n",
        "Example: The time taken for a bus to arrive (could be 5.2 min, 5.25 min, etc.).\n",
        "\n",
        "Example:\n",
        "\n",
        "Rolling a fair die:\n",
        "\n",
        "Outcome = {1, 2, 3, 4, 5, 6}\n",
        "\n",
        "Random variable\n",
        "𝑋\n",
        "X = \"number showing on the die\"\n",
        "\n",
        "So, a random variable is a numerical description of the outcome of a random phenomenon."
      ],
      "metadata": {
        "id": "sWP5TKFVyXmL"
      }
    },
    {
      "cell_type": "markdown",
      "source": [
        "Question 2: What are the types of random variables?"
      ],
      "metadata": {
        "id": "jIySJtGUy_JA"
      }
    },
    {
      "cell_type": "markdown",
      "source": [
        "->In probability theory, random variables are mainly classified into two types:\n",
        "\n",
        "1. Discrete Random Variable\n",
        "\n",
        "Can take only countable values (finite or infinite).\n",
        "\n",
        "Usually associated with situations where outcomes can be listed.\n",
        "\n",
        "Example:\n",
        "\n",
        "Number of students present in class (0, 1, 2, …).\n",
        "\n",
        "Number of heads in 3 coin tosses (0, 1, 2, 3).\n",
        "\n",
        "2. Continuous Random Variable\n",
        "\n",
        "Can take any value within an interval (uncountably infinite).\n",
        "\n",
        "Usually associated with measurements.\n",
        "\n",
        "Example:\n",
        "\n",
        "Height of students (can be 160.5 cm, 160.55 cm, etc.).\n",
        "\n",
        "Time taken to finish a race (10.25 seconds, 10.251 seconds, etc.).\n",
        "\n",
        "Discrete → countable outcomes.\n",
        "\n",
        "Continuous → outcomes measured over a range."
      ],
      "metadata": {
        "id": "Tdq4zCBOzBu9"
      }
    },
    {
      "cell_type": "markdown",
      "source": [
        "Question 3: Explain the difference between discrete and continuous distributions.\n"
      ],
      "metadata": {
        "id": "AWds_q-Ezd9S"
      }
    },
    {
      "cell_type": "markdown",
      "source": [
        "->1. Discrete Probability Distribution\n",
        "\n",
        "Deals with discrete random variables (countable outcomes).\n",
        "\n",
        "Probability is assigned to each possible value of the variable.\n",
        "\n",
        "The probabilities must satisfy:\n",
        "\n",
        "P(X=x)≥0,∑P(X=x)=1\n",
        "\n",
        "Represented using probability mass function (PMF).\n",
        "\n",
        "Examples:\n",
        "\n",
        "Binomial distribution (coin tosses).\n",
        "\n",
        "Poisson distribution (number of calls received at a call center in an hour).\n",
        "\n",
        "2. Continuous Probability Distribution\n",
        "\n",
        "Deals with continuous random variables (uncountably infinite outcomes).\n",
        "\n",
        "Probability of the variable taking any exact value is 0. Instead, probability is defined over intervals.\n",
        "\n",
        "The probabilities must satisfy:\n",
        "\n",
        "(x)≥0,∫−∞∞​f(x)dx=1\n",
        "\n",
        "Represented using probability density function (PDF).\n",
        "\n",
        "Examples:\n",
        "\n",
        "Normal distribution (heights, exam marks).\n",
        "\n",
        "Exponential distribution (time between arrivals of buses)."
      ],
      "metadata": {
        "id": "I9XSNF0KzgMT"
      }
    },
    {
      "cell_type": "markdown",
      "source": [
        "Question 4: What is a binomial distribution, and how is it used in probability?"
      ],
      "metadata": {
        "id": "9inT5nZ52feB"
      }
    },
    {
      "cell_type": "markdown",
      "source": [
        "->A binomial distribution is a discrete probability distribution that describes the number of successes in a fixed number of independent trials, where each trial has only two possible outcomes:\n",
        "\n",
        "Success (with probability\n",
        "𝑝\n",
        "p)\n",
        "\n",
        "Failure (with probability)q=1−p\n",
        "\n",
        "The probability of getting exactly\n",
        "𝑘\n",
        "k successes in\n",
        "𝑛\n",
        "n trials is:\n",
        "\n",
        "P(X=k)=(kn​)pk(1−p)n−k\n",
        "\n",
        "where:\n",
        "\n",
        "k\n",
        "n=\n",
        "k!(n−k)!\n",
        "n!(number of ways to choose\n",
        "𝑘\n",
        "k successes),\n",
        "\n",
        "\n",
        "p = probability of success\n",
        "\n",
        "q=1−p = probability of failure.\n",
        "\n",
        "Examples of Usage\n",
        "\n",
        "*Tossing a coin 10 times and finding the probability of getting exactly 6 heads.\n",
        "\n",
        "*Quality control: Probability of finding defective items in a batch.\n",
        "\n",
        "*Exam setting: Probability of a student passing at least 7 out of 10 multiple-choice questions by guessing."
      ],
      "metadata": {
        "id": "seE7fXxs2nWp"
      }
    },
    {
      "cell_type": "markdown",
      "source": [
        "Question 5: What is the standard normal distribution, and why is it important?"
      ],
      "metadata": {
        "id": "vW9969aa3yL_"
      }
    },
    {
      "cell_type": "markdown",
      "source": [
        "->The standard normal distribution is a normal distribution with mean = 0 and standard deviation = 1.\n",
        "\n",
        "Formally:\n",
        "\n",
        "𝑍\n",
        "∼\n",
        "𝑁\n",
        "(\n",
        "0\n",
        ",\n",
        "1\n",
        ")\n",
        "Z∼N(0,1)\n",
        "\n",
        "It is a bell-shaped, symmetric probability distribution centered at 0, used as a reference to calculate probabilities and compare values from any normal distribution through standardization.\n",
        "\n",
        "\n",
        "  Any normal distribution\n",
        "𝑋\n",
        "∼\n",
        "𝑁\n",
        "(\n",
        "𝜇\n",
        ",\n",
        "𝜎\n",
        "2\n",
        ")\n",
        "X∼N(μ,σ\n",
        "2\n",
        ") can be converted into the standard normal form using:\n",
        "\n",
        "𝑍+=𝑋\n",
        "−\n",
        "𝜇\n",
        "𝜎\n",
        "Z=\n",
        "σ\n",
        "X−μ\n",
        "\t​\n",
        "\n",
        "\n",
        "This process is called standardization.\n",
        "\n",
        "Tables of the standard normal distribution (Z-tables) are used to find probabilities and critical values.\n",
        "\n",
        "Hypothesis testing (Z-test).\n",
        "\n",
        "Confidence intervals.\n",
        "\n",
        "Control charts in quality management.\n",
        "\n",
        "Eg:Many real-world phenomena (heights, marks, errors, etc.) follow a normal distribution, making the standard normal essential for analysis."
      ],
      "metadata": {
        "id": "a8T9cUNm34xX"
      }
    },
    {
      "cell_type": "markdown",
      "source": [
        "Question 6: What is the Central Limit Theorem (CLT), and why is it critical in statistics?"
      ],
      "metadata": {
        "id": "rQiIZmMX5h3O"
      }
    },
    {
      "cell_type": "markdown",
      "source": [
        "->The Central Limit Theorem states that if we take a large number of independent, identically distributed random samples from any population (with mean\n",
        "𝜇\n",
        "μ and finite variance\n",
        "𝜎\n",
        "2\n",
        "σ\n",
        "2\n",
        "), then the distribution of the sample mean approaches a normal distribution, regardless of the population’s original distribution.\n",
        "\n",
        "X∼N(μ,nσ2​)as n→∞\n",
        "\n",
        "Why is it critical\n",
        "\n",
        "Even if the population is not normally distributed, the sample mean will be approximately normal for large\n",
        "𝑛\n",
        "n.\n",
        "\n",
        "This makes the normal distribution widely applicable in practice.\n",
        "\n",
        "Allows us to make inferences about population parameters (e.g., mean, proportion) using sample data.\n",
        "\n",
        "The CLT justifies using Z-tests, t-tests, and constructing confidence intervals."
      ],
      "metadata": {
        "id": "I6H-UHwl5mIH"
      }
    },
    {
      "cell_type": "markdown",
      "source": [
        "Question 7: What is the significance of confidence intervals in statistical analysis?\n"
      ],
      "metadata": {
        "id": "BD9FtGg16d5z"
      }
    },
    {
      "cell_type": "markdown",
      "source": [
        "->A confidence interval (CI) is a range of values, calculated from sample data, that is likely to contain the true population parameter (like mean or proportion) with a specified level of confidence.\n",
        "\n",
        "Formula (for mean when population SD is known):\n",
        "\n",
        "CI=Xˉ±Zα/2​(n\n",
        "​σ​)\n",
        "\n",
        "where:\n",
        "\n",
        "X = sample mean\n",
        "\n",
        "Z\n",
        "α/2= Z-value corresponding to the desired confidence level\n",
        "\n",
        "σ = population standard deviation\n",
        "\n",
        "n = sample size\n",
        "\n",
        "Importance\n",
        "\n",
        "Provides a range, not just a single value (point estimate), showing the possible variation in the estimate.\n",
        "\n",
        "Wider intervals → more uncertainty.\n",
        "\n",
        "Narrower intervals → more precise estimate."
      ],
      "metadata": {
        "id": "6fqS402M6gi1"
      }
    },
    {
      "cell_type": "markdown",
      "source": [
        "Question 8: What is the concept of expected value in a probability distribution?"
      ],
      "metadata": {
        "id": "Mqo7-oWO7aH9"
      }
    },
    {
      "cell_type": "markdown",
      "source": [
        "->The expected value (EV) of a random variable is the long-run average value of the outcomes, weighted by their probabilities.\n",
        "\n",
        "It represents the mean or central tendency of a probability distribution\n",
        "\n",
        "For a Discrete Random Variable:\n",
        "\n",
        "E(X)=i=1∑n​xi​P(X=xi​)\n",
        "\n",
        "For a Continuous Random Variable:\n",
        "\n",
        "If\n",
        "𝑋\n",
        "X has probability density function\n",
        "𝑓\n",
        "(\n",
        "𝑥\n",
        ")\n",
        "f(x), then:\n",
        "\n",
        "E(X)=∫−∞∞​xf(x)dx\n",
        "\n",
        "Example:\n",
        "\n",
        "Suppose you roll a fair die.\n",
        "\n",
        "Possible outcomes: 1, 2, 3, 4, 5, 6\n",
        "\n",
        "Each with probability:1/6\n",
        "\n",
        "E(x)=(1+2+3+4+6)*1/6=3.5\n",
        "\n",
        "So, the expected value of the die roll is 3.5, meaning that on average, we would get 3.5 per roll over many trials.\n",
        "\n",
        "\n"
      ],
      "metadata": {
        "id": "ffTflNYg7dD8"
      }
    },
    {
      "cell_type": "markdown",
      "source": [
        "Question 9: Write a Python program to generate 1000 random numbers from a normal\n",
        "distribution with mean = 50 and standard deviation = 5. Compute its mean and standard\n",
        "deviation using NumPy, and draw a histogram to visualize the distribution."
      ],
      "metadata": {
        "id": "I7uImNEL-Ra6"
      }
    },
    {
      "cell_type": "code",
      "source": [
        "import numpy as np\n",
        "import matplotlib.pyplot as plt\n",
        "mean = 50\n",
        "std_dev = 5\n",
        "random_numbers = np.random.normal(loc=mean, scale=std_dev, size=1000)\n",
        "computed_mean = np.mean(random_numbers)\n",
        "computed_std_dev = np.std(random_numbers)\n",
        "print(f\"Computed Mean: {computed_mean:.2f}\")\n",
        "print(f\"Computed Standard Deviation: {computed_std_dev:.2f}\")\n",
        "plt.hist(random_numbers, bins=30, density=True, alpha=0.6, color='g')\n",
        "plt.title('Histogram of Random Numbers from Normal Distribution')\n",
        "plt.xlabel('Value')\n",
        "plt.ylabel('Frequency')\n",
        "plt.grid(True)\n",
        "plt.show()"
      ],
      "metadata": {
        "colab": {
          "base_uri": "https://localhost:8080/",
          "height": 507
        },
        "id": "vClgKoey-VgH",
        "outputId": "e945769d-f802-4f56-ded5-7bf7c0c4e2e1"
      },
      "execution_count": 1,
      "outputs": [
        {
          "output_type": "stream",
          "name": "stdout",
          "text": [
            "Computed Mean: 49.96\n",
            "Computed Standard Deviation: 4.84\n"
          ]
        },
        {
          "output_type": "display_data",
          "data": {
            "text/plain": [
              "<Figure size 640x480 with 1 Axes>"
            ],
            "image/png": "[encoded data removed]"
          },
          "metadata": {}
        }
      ]
    },
    {
      "cell_type": "markdown",
      "source": [
        "Question 10: You are working as a data analyst for a retail company. The company has\n",
        "collected daily sales data for 2 years and wants you to identify the overall sales trend.\n",
        "daily_sales = [220, 245, 210, 265, 230, 250, 260, 275, 240, 255,\n",
        "235, 260, 245, 250, 225, 270, 265, 255, 250, 260]\n",
        "● Explain how you would apply the Central Limit Theorem to estimate the average sales\n",
        "with a 95% confidence interval.\n",
        "● Write the Python code to compute the mean sales and its confidence interval."
      ],
      "metadata": {
        "id": "t7_4y5Zj-1Nz"
      }
    },
    {
      "cell_type": "markdown",
      "source": [
        "->The Central Limit Theorem (CLT) states that for a large enough sample size, the sampling distribution of the sample mean will be approximately normal, even if the original data is not perfectly normal.\n",
        "\n",
        "Treat daily sales as random samples from the population of all possible daily sales.\n",
        "\n",
        "Compute the sample mean (\n",
        "𝑋\n",
        "ˉ\n",
        "X\n",
        "ˉ\n",
        ") and sample standard deviation (\n",
        "𝑠\n",
        "s).\n",
        "\n",
        "Use the CLT to assume that the sample mean follows a normal distribution:\n",
        "\n",
        "Xˉ∼N(μ,ns2​)\n",
        "\n",
        "Construct a 95% confidence interval for the true average sales using:\n",
        "\n",
        "CI=Xˉ±Zα/2​(n\n",
        "​s​)\n",
        "\n",
        "where Zα/2​=1.96 for 95% confidence.\n"
      ],
      "metadata": {
        "id": "zdTZea0e_L4X"
      }
    },
    {
      "cell_type": "code",
      "source": [
        "import numpy as np\n",
        "from scipy import stats\n",
        "daily_sales = [220, 245, 210, 265, 230, 250, 260, 275, 240, 255,\n",
        "               235, 260, 245, 250, 225, 270, 265, 255, 250, 260]\n",
        "sales = np.array(daily_sales)\n",
        "n = len(sales)\n",
        "mean_sales = np.mean(sales)\n",
        "std_sales = np.std(sales, ddof=1)\n",
        "z_score = 1.96\n",
        "margin_of_error = z_score * (std_sales / np.sqrt(n))\n",
        "ci_lower = mean_sales - margin_of_error\n",
        "ci_upper = mean_sales + margin_of_error\n",
        "print(f\"Mean Daily Sales: {mean_sales:.2f}\")\n",
        "print(f\"95% Confidence Interval: ({ci_lower:.2f}, {ci_upper:.2f})\")"
      ],
      "metadata": {
        "colab": {
          "base_uri": "https://localhost:8080/"
        },
        "id": "e0G4-NxD_pGP",
        "outputId": "db36d7d6-1798-4c10-a920-920186dc3cc2"
      },
      "execution_count": 2,
      "outputs": [
        {
          "output_type": "stream",
          "name": "stdout",
          "text": [
            "Mean Daily Sales: 248.25\n",
            "95% Confidence Interval: (240.68, 255.82)\n"
          ]
        }
      ]
    }
  ]
}